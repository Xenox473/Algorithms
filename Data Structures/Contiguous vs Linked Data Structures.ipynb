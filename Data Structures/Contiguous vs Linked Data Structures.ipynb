{
 "cells": [
  {
   "cell_type": "code",
   "execution_count": null,
   "metadata": {},
   "outputs": [],
   "source": [
    "# Contiguously allocated data structures are composed of single slabs of memory ex: arrays, matrices, heaps, hash tables, etc.\n",
    "# Linked Data Structures are composed of unique chunks of memory that are bounded together with pointers. ex: lists, trees, graphs, etc"
   ]
  },
  {
   "cell_type": "code",
   "execution_count": null,
   "metadata": {},
   "outputs": [],
   "source": [
    "# Advantages to arrays:\n",
    "# 1. Constant-time access with a given index\n",
    "# 2. Space efficiency\n",
    "# 3. Memory Locality\n",
    "# Disadvantages:Cannot modify size during run time - Can dynamically increase size, but there is a cost"
   ]
  },
  {
   "cell_type": "code",
   "execution_count": 1,
   "metadata": {},
   "outputs": [],
   "source": [
    "# Linked Lists\n",
    "class Node:\n",
    "    def __init__(self, item):\n",
    "        self.item = item\n",
    "        self.next = None\n",
    "    def set_next(self, next_node):\n",
    "        self.next = next_node"
   ]
  },
  {
   "cell_type": "code",
   "execution_count": null,
   "metadata": {},
   "outputs": [],
   "source": [
    "n1 = Node(1)\n",
    "n2 = Node(2)\n",
    "n1.set_next(n2)\n",
    "print (n1.next.item)"
   ]
  },
  {
   "cell_type": "code",
   "execution_count": null,
   "metadata": {},
   "outputs": [],
   "source": [
    "# Searching a list\n",
    "def search(item, node):\n",
    "    if item == node.item:\n",
    "        return True\n",
    "    else:\n",
    "        if node.next == None:\n",
    "            return False\n",
    "        else:\n",
    "            return search(item, node.next)"
   ]
  },
  {
   "cell_type": "code",
   "execution_count": null,
   "metadata": {},
   "outputs": [],
   "source": [
    "# Inserting into the front of the list\n",
    "def insert(item, node):\n",
    "    new_node = Node(item)\n",
    "    new_node.next = node\n",
    "    return new_node"
   ]
  },
  {
   "cell_type": "code",
   "execution_count": null,
   "metadata": {},
   "outputs": [],
   "source": [
    "n3 = insert(3, n1)\n",
    "print(n3.next.next.item) # should get 2"
   ]
  },
  {
   "cell_type": "code",
   "execution_count": null,
   "metadata": {},
   "outputs": [],
   "source": [
    "# Deletion from list\n",
    "# Delete from front of the list\n",
    "# Delete from middle of the list\n",
    "# Delete from end of the list\n",
    "def delete(item, node):\n",
    "    if item == node.item:\n",
    "        return node.next\n",
    "    if node.next == None:\n",
    "        return False\n",
    "    if node.next.item == item:\n",
    "        node.next = node.next.next\n",
    "        node.next.next = None\n",
    "        return True\n",
    "    else:\n",
    "        delete(item, node.next)"
   ]
  },
  {
   "cell_type": "code",
   "execution_count": null,
   "metadata": {},
   "outputs": [],
   "source": [
    "delete(1, n3)\n",
    "print(n3.next.item) # should print 2"
   ]
  },
  {
   "cell_type": "code",
   "execution_count": 14,
   "metadata": {},
   "outputs": [],
   "source": [
    "# Putting this all together in a Linked List Class\n",
    "class LinkedList:\n",
    "    def __init__(self):\n",
    "        self.head = None\n",
    "    \n",
    "    def print_list(self):\n",
    "        node = self.head\n",
    "        result = []\n",
    "        while node:\n",
    "            result.append(node.item)\n",
    "            node = node.next\n",
    "        print(result)\n",
    "        \n",
    "    def search(self, item, current_node = \"start\"): # Added the start to identify top level\n",
    "        if current_node == \"start\":\n",
    "            current_node = self.head\n",
    "        if not current_node:\n",
    "            return False\n",
    "        if item == current_node.item:\n",
    "            return True\n",
    "        else:\n",
    "            if current_node.next == None:\n",
    "                return False\n",
    "            else:\n",
    "                return self.search(item, current_node.next)\n",
    "    \n",
    "    def insert(self, item):\n",
    "        new_node = Node(item)\n",
    "        new_node.next = self.head\n",
    "        self.head = new_node\n",
    "        return True\n",
    "    \n",
    "    def delete(self, item, node = \"start\"):\n",
    "        if node == \"start\":\n",
    "            node = self.head\n",
    "        if item == node.item:\n",
    "            self.head = node.next\n",
    "            return True\n",
    "        if node.next == None:\n",
    "            return False\n",
    "        if node.next.item == item:\n",
    "            node.next = node.next.next\n",
    "            return True\n",
    "        else:\n",
    "            self.delete(item, node.next)"
   ]
  },
  {
   "cell_type": "code",
   "execution_count": 15,
   "metadata": {},
   "outputs": [
    {
     "name": "stdout",
     "output_type": "stream",
     "text": [
      "True\n",
      "[3]\n",
      "True\n",
      "[2, 3]\n",
      "[1, 2, 3]\n",
      "[1, 2]\n",
      "[2]\n",
      "[]\n",
      "False\n"
     ]
    }
   ],
   "source": [
    "l = LinkedList()\n",
    "l.insert(3)\n",
    "print(l.search(3))\n",
    "l.print_list()\n",
    "l.insert(2)\n",
    "print(l.search(3))\n",
    "l.print_list()\n",
    "l.insert(1)\n",
    "l.print_list()\n",
    "l.delete(3)\n",
    "l.print_list()\n",
    "l.delete(1)\n",
    "l.print_list()\n",
    "l.delete(2)\n",
    "l.print_list()\n",
    "print(l.search(3))"
   ]
  },
  {
   "cell_type": "code",
   "execution_count": null,
   "metadata": {},
   "outputs": [],
   "source": []
  },
  {
   "cell_type": "code",
   "execution_count": null,
   "metadata": {},
   "outputs": [],
   "source": []
  }
 ],
 "metadata": {
  "kernelspec": {
   "display_name": "Python 3",
   "language": "python",
   "name": "python3"
  },
  "language_info": {
   "codemirror_mode": {
    "name": "ipython",
    "version": 3
   },
   "file_extension": ".py",
   "mimetype": "text/x-python",
   "name": "python",
   "nbconvert_exporter": "python",
   "pygments_lexer": "ipython3",
   "version": "3.7.4"
  }
 },
 "nbformat": 4,
 "nbformat_minor": 2
}
